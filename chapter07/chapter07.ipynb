{
 "cells": [
  {
   "cell_type": "code",
   "execution_count": null,
   "id": "bb5a2587",
   "metadata": {},
   "outputs": [
    {
     "name": "stdout",
     "output_type": "stream",
     "text": [
      "veryfying Candace\n",
      "veryfying Brian\n",
      "veryfying Alice\n",
      "---------------\n",
      "confirmed user\n",
      "---------------\n",
      "Candace\n",
      "Brian\n",
      "Alice\n"
     ]
    }
   ],
   "source": [
    "unconfirmed_users = ['alice','brian','candace']\n",
    "confirmed_users = []\n",
    "while unconfirmed_users:\n",
    "    current_user = unconfirmed_users.pop()\n",
    "    print(f\"verifying {current_user.title()}\")\n",
    "    confirmed_users.append(current_user)\n",
    "\n",
    "print(\"---------------\\nconfirmed user\\n---------------\")\n",
    "for confimred_user in confirmed_users:\n",
    "    print(confimred_user.title())"
   ]
  },
  {
   "cell_type": "code",
   "execution_count": 8,
   "id": "7d65a5a2",
   "metadata": {},
   "outputs": [],
   "source": [
    "pets = ['dog', 'cat', 'dog', 'goldfish', 'cat', 'rabbit', 'cat']\n",
    "while 'cat' in pets:\n",
    "    pets.remove('cat')"
   ]
  },
  {
   "cell_type": "code",
   "execution_count": 9,
   "id": "f5126427",
   "metadata": {},
   "outputs": [
    {
     "data": {
      "text/plain": [
       "['dog', 'dog', 'goldfish', 'rabbit']"
      ]
     },
     "execution_count": 9,
     "metadata": {},
     "output_type": "execute_result"
    }
   ],
   "source": [
    "pets"
   ]
  },
  {
   "cell_type": "code",
   "execution_count": 3,
   "id": "cb32fce1",
   "metadata": {},
   "outputs": [
    {
     "name": "stdout",
     "output_type": "stream",
     "text": [
      "Poll results\n",
      "jewel will climb rocky\n",
      "rony will climb himalaya\n"
     ]
    }
   ],
   "source": [
    "responses = {}\n",
    "poling_active = True\n",
    "\n",
    "while poling_active:\n",
    "    name = input(\"name: \")\n",
    "    response = input(\"Which mountain? \")\n",
    "\n",
    "    responses[name] = response\n",
    "\n",
    "    repeat = input(\"Would you let other poll? \")\n",
    "    if repeat == 'no':\n",
    "        poling_active = False\n",
    "print(\"Poll results\")\n",
    "for name, response in responses.items():\n",
    "    print(f\"{name} will climb {response}\")"
   ]
  },
  {
   "cell_type": "code",
   "execution_count": null,
   "id": "cad13d0c",
   "metadata": {},
   "outputs": [],
   "source": []
  }
 ],
 "metadata": {
  "kernelspec": {
   "display_name": "Python 3",
   "language": "python",
   "name": "python3"
  },
  "language_info": {
   "codemirror_mode": {
    "name": "ipython",
    "version": 3
   },
   "file_extension": ".py",
   "mimetype": "text/x-python",
   "name": "python",
   "nbconvert_exporter": "python",
   "pygments_lexer": "ipython3",
   "version": "3.10.8"
  }
 },
 "nbformat": 4,
 "nbformat_minor": 5
}

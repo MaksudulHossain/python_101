{
 "cells": [
  {
   "cell_type": "code",
   "execution_count": 1,
   "id": "860b1458",
   "metadata": {},
   "outputs": [
    {
     "name": "stdout",
     "output_type": "stream",
     "text": [
      "Audi\n",
      "BMW\n",
      "Subaru\n",
      "Toyota\n"
     ]
    }
   ],
   "source": [
    "cars = ['audi', 'bmw', 'subaru', 'toyota']\n",
    "for car in cars:\n",
    "    if car == 'bmw':\n",
    "        print(car.upper())\n",
    "    else:\n",
    "        print(car.title())"
   ]
  },
  {
   "cell_type": "code",
   "execution_count": 2,
   "id": "62db3fc1",
   "metadata": {},
   "outputs": [
    {
     "name": "stdout",
     "output_type": "stream",
     "text": [
      "Hold the anchovies\n"
     ]
    }
   ],
   "source": [
    "requested_topping = 'mushrooms'\n",
    "if requested_topping != 'anchovies':\n",
    "    print('Hold the anchovies')"
   ]
  },
  {
   "cell_type": "code",
   "execution_count": 3,
   "id": "4294c6a6",
   "metadata": {},
   "outputs": [
    {
     "name": "stdout",
     "output_type": "stream",
     "text": [
      "That's not the correct answer. Please try again\n"
     ]
    }
   ],
   "source": [
    "answer = 17 \n",
    "if answer != 42:\n",
    "    print(\"That's not the correct answer. Please try again\")"
   ]
  },
  {
   "cell_type": "code",
   "execution_count": 4,
   "id": "ab957eca",
   "metadata": {},
   "outputs": [
    {
     "name": "stdout",
     "output_type": "stream",
     "text": [
      "YMarie you can post a response if you wish.\n"
     ]
    }
   ],
   "source": [
    "banned_users = ['andrew', 'carolina', 'david']\n",
    "user = 'marie'\n",
    "if user not in banned_users:\n",
    "    print(f\"Y{user.title()} you can post a response if you wish.\")"
   ]
  },
  {
   "cell_type": "code",
   "execution_count": 5,
   "id": "156c385a",
   "metadata": {},
   "outputs": [],
   "source": [
    "game_active = True\n",
    "can_edit = False"
   ]
  },
  {
   "cell_type": "code",
   "execution_count": 6,
   "id": "63a23299",
   "metadata": {},
   "outputs": [
    {
     "name": "stdout",
     "output_type": "stream",
     "text": [
      "True\n"
     ]
    }
   ],
   "source": [
    "car = 'subaru'\n",
    "print(car == 'subaru')"
   ]
  },
  {
   "cell_type": "code",
   "execution_count": 10,
   "id": "880bbe00",
   "metadata": {},
   "outputs": [
    {
     "name": "stdout",
     "output_type": "stream",
     "text": [
      "Admission fee is $25\n"
     ]
    }
   ],
   "source": [
    "age = 17\n",
    "if age<4:\n",
    "    print(\"Admission is free.\")\n",
    "elif age < 18:\n",
    "    print(\"Admission fee is $25\")\n",
    "else:\n",
    "    print(\"Admission fee is $40\") "
   ]
  },
  {
   "cell_type": "code",
   "execution_count": 14,
   "id": "1c8a4aa5",
   "metadata": {},
   "outputs": [
    {
     "name": "stdout",
     "output_type": "stream",
     "text": [
      "Adding mushrooms\n",
      "Adding green peppers\n",
      "Adding extra cheese\n",
      "Your pizza is ready\n"
     ]
    }
   ],
   "source": [
    "requested_toppings = ['mushrooms', 'green peppers', 'extra cheese']\n",
    "if requested_toppings:\n",
    "    for requested_topping in requested_toppings:\n",
    "        print(f\"Adding {requested_topping}\")\n",
    "else:\n",
    "    print(\"Are you sure you want a plain pizza?\")\n",
    "print(\"Your pizza is ready\")\n"
   ]
  },
  {
   "cell_type": "code",
   "execution_count": 15,
   "id": "0a21cea2",
   "metadata": {},
   "outputs": [
    {
     "name": "stdout",
     "output_type": "stream",
     "text": [
      "Adding mushrooms\n",
      "Sorry, we don't have french fries\n",
      "Adding extra cheese\n",
      "Finished your pizza\n"
     ]
    }
   ],
   "source": [
    "available_toppings = ['mushrooms', 'olives', 'green peppers',\n",
    "'pepperoni', 'pineapple', 'extra cheese']\n",
    "requested_toppings = ['mushrooms', 'french fries', 'extra cheese']\n",
    "\n",
    "for requested_topping in requested_toppings:\n",
    "    if requested_topping in available_toppings:\n",
    "        print(f\"Adding {requested_topping}\")\n",
    "    else:\n",
    "        print(f\"Sorry, we don't have {requested_topping}\")\n",
    "\n",
    "print(\"Finished your pizza\")"
   ]
  },
  {
   "cell_type": "code",
   "execution_count": null,
   "id": "1dcc3933",
   "metadata": {},
   "outputs": [],
   "source": []
  }
 ],
 "metadata": {
  "kernelspec": {
   "display_name": "Python 3",
   "language": "python",
   "name": "python3"
  },
  "language_info": {
   "codemirror_mode": {
    "name": "ipython",
    "version": 3
   },
   "file_extension": ".py",
   "mimetype": "text/x-python",
   "name": "python",
   "nbconvert_exporter": "python",
   "pygments_lexer": "ipython3",
   "version": "3.13.1"
  }
 },
 "nbformat": 4,
 "nbformat_minor": 5
}

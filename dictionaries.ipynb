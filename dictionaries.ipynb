{
 "cells": [
  {
   "cell_type": "code",
   "execution_count": 1,
   "id": "f5995a7b",
   "metadata": {},
   "outputs": [
    {
     "name": "stdout",
     "output_type": "stream",
     "text": [
      "green\n",
      "5\n"
     ]
    }
   ],
   "source": [
    "alien_0 = {'color':'green', 'points':5}\n",
    "print(alien_0['color'])\n",
    "print(alien_0['points'])"
   ]
  },
  {
   "cell_type": "code",
   "execution_count": 4,
   "id": "8d277f6e",
   "metadata": {},
   "outputs": [
    {
     "name": "stdout",
     "output_type": "stream",
     "text": [
      "You just earned 5 points!\n"
     ]
    }
   ],
   "source": [
    "new_points = alien_0['points']\n",
    "print(f\"You just earned {new_points} points!\")"
   ]
  },
  {
   "cell_type": "code",
   "execution_count": 5,
   "id": "3f8e6c7d",
   "metadata": {},
   "outputs": [
    {
     "name": "stdout",
     "output_type": "stream",
     "text": [
      "{'color': 'green', 'points': 5, 'x_poistion': 0, 'y_poistion': 25}\n"
     ]
    }
   ],
   "source": [
    "alien_0['x_poistion'] = 0\n",
    "alien_0['y_poistion'] = 25\n",
    "print(alien_0)"
   ]
  },
  {
   "cell_type": "code",
   "execution_count": 6,
   "id": "85354be7",
   "metadata": {},
   "outputs": [
    {
     "name": "stdout",
     "output_type": "stream",
     "text": [
      "{'color': 'green', 'points': 5}\n"
     ]
    }
   ],
   "source": [
    "alien_0 = {}\n",
    "alien_0['color'] = 'green'\n",
    "alien_0['points'] = 5\n",
    "\n",
    "print(alien_0)"
   ]
  },
  {
   "cell_type": "code",
   "execution_count": 9,
   "id": "be09bf57",
   "metadata": {},
   "outputs": [
    {
     "name": "stdout",
     "output_type": "stream",
     "text": [
      "The alien is green\n",
      "The alien is yellow\n"
     ]
    }
   ],
   "source": [
    "alien_0 = {'color': 'green'}\n",
    "print(f\"The alien is {alien_0['color']}\")\n",
    "alien_0['color'] = 'yellow'\n",
    "print(f\"The alien is {alien_0['color']}\")\n"
   ]
  },
  {
   "cell_type": "code",
   "execution_count": 12,
   "id": "08cb20b3",
   "metadata": {},
   "outputs": [
    {
     "name": "stdout",
     "output_type": "stream",
     "text": [
      "original position: 0\n"
     ]
    }
   ],
   "source": [
    "alien_0 = {'x_pos':0, 'y_pos':25, 'speed':'medium'}\n",
    "print(f\"original position: {alien_0['x_pos']}\")"
   ]
  },
  {
   "cell_type": "code",
   "execution_count": 13,
   "id": "da7b2e7f",
   "metadata": {},
   "outputs": [
    {
     "name": "stdout",
     "output_type": "stream",
     "text": [
      "new poistion: 2\n"
     ]
    }
   ],
   "source": [
    "if alien_0['speed']=='slow':\n",
    "    x_increment = 1\n",
    "elif alien_0['speed'] == 'medium':\n",
    "    x_increment = 2\n",
    "else:\n",
    "    x_increment = 3 \n",
    "\n",
    "alien_0['x_pos'] += x_increment\n",
    "\n",
    "print(f\"new poistion: {alien_0['x_pos']}\")\n"
   ]
  },
  {
   "cell_type": "code",
   "execution_count": 14,
   "id": "f1d7486d",
   "metadata": {},
   "outputs": [],
   "source": [
    "del alien_0['speed']"
   ]
  },
  {
   "cell_type": "code",
   "execution_count": 15,
   "id": "535015ee",
   "metadata": {},
   "outputs": [
    {
     "data": {
      "text/plain": [
       "{'x_pos': 2, 'y_pos': 25}"
      ]
     },
     "execution_count": 15,
     "metadata": {},
     "output_type": "execute_result"
    }
   ],
   "source": [
    "alien_0"
   ]
  },
  {
   "cell_type": "code",
   "execution_count": 17,
   "id": "13699cf3",
   "metadata": {},
   "outputs": [],
   "source": [
    "favorite_languages = {\n",
    "'jen': 'python',\n",
    "'sarah': 'c',\n",
    "'edward': 'ruby',\n",
    "'phil': 'python',\n",
    "}\n",
    "\n",
    "language = favorite_languages['sarah'].title()"
   ]
  },
  {
   "cell_type": "code",
   "execution_count": 21,
   "id": "d3a46901",
   "metadata": {},
   "outputs": [
    {
     "name": "stdout",
     "output_type": "stream",
     "text": [
      "Not found\n"
     ]
    }
   ],
   "source": [
    "alien_0 = {'color': 'green', 'speed': 'slow'}\n",
    "# print(alien_0['points'])\n",
    "print(alien_0.get('points','Not found'))"
   ]
  },
  {
   "cell_type": "code",
   "execution_count": 2,
   "id": "c32d2050",
   "metadata": {},
   "outputs": [
    {
     "name": "stdout",
     "output_type": "stream",
     "text": [
      "Hi Sarah, I see your fav lang is c\n",
      "Hi Phil, I see your fav lang is python\n"
     ]
    }
   ],
   "source": [
    "favorite_languages = {\n",
    "'jen': 'python',\n",
    "'sarah': 'c',\n",
    "'edward': 'ruby',\n",
    "'phil': 'python',\n",
    "}\n",
    "\n",
    "friends = ['phil', 'sarah']\n",
    "for name in favorite_languages.keys():\n",
    "    if name in friends:\n",
    "        print(f\"Hi {name.title()}, I see your fav lang is {favorite_languages[name]}\")"
   ]
  },
  {
   "cell_type": "code",
   "execution_count": 5,
   "id": "a6c9df80",
   "metadata": {},
   "outputs": [],
   "source": [
    "user = {\n",
    "    'name':'rishat',\n",
    "    'pwd':'125//*',\n",
    "    'email':'rishat@gmail.com',\n",
    "}"
   ]
  },
  {
   "cell_type": "code",
   "execution_count": 6,
   "id": "913cd0e9",
   "metadata": {},
   "outputs": [
    {
     "data": {
      "text/plain": [
       "dict_keys(['name', 'pwd', 'email'])"
      ]
     },
     "execution_count": 6,
     "metadata": {},
     "output_type": "execute_result"
    }
   ],
   "source": [
    "user.keys()"
   ]
  },
  {
   "cell_type": "code",
   "execution_count": 10,
   "id": "198176d2",
   "metadata": {},
   "outputs": [
    {
     "name": "stdout",
     "output_type": "stream",
     "text": [
      "name\n",
      "pwd\n",
      "email\n"
     ]
    }
   ],
   "source": [
    "# for key in user.keys():\n",
    "#     print(key)\n",
    "\n",
    "for key in user:\n",
    "    print(key)"
   ]
  },
  {
   "cell_type": "code",
   "execution_count": 12,
   "id": "a982b0c3",
   "metadata": {},
   "outputs": [
    {
     "name": "stdout",
     "output_type": "stream",
     "text": [
      "rishat\n",
      "125//*\n",
      "rishat@gmail.com\n"
     ]
    }
   ],
   "source": [
    "for val in user.values():\n",
    "    print(val)"
   ]
  },
  {
   "cell_type": "code",
   "execution_count": 16,
   "id": "b9a95bf7",
   "metadata": {},
   "outputs": [
    {
     "name": "stdout",
     "output_type": "stream",
     "text": [
      "name : rishat\n",
      "pwd : 125//*\n",
      "email : rishat@gmail.com\n"
     ]
    }
   ],
   "source": [
    "for item in user.items():\n",
    "    print(item[0], \":\", item[1])"
   ]
  },
  {
   "cell_type": "code",
   "execution_count": 18,
   "id": "87c859d5",
   "metadata": {},
   "outputs": [
    {
     "name": "stdout",
     "output_type": "stream",
     "text": [
      "dict_items([('name', 'rishat'), ('pwd', '125//*'), ('email', 'rishat@gmail.com')])\n"
     ]
    }
   ],
   "source": [
    "print(user.items())"
   ]
  },
  {
   "cell_type": "code",
   "execution_count": 19,
   "id": "f1ac7fa2",
   "metadata": {},
   "outputs": [
    {
     "data": {
      "text/plain": [
       "(1, 2)"
      ]
     },
     "execution_count": 19,
     "metadata": {},
     "output_type": "execute_result"
    }
   ],
   "source": [
    "tpl = (1,2)\n",
    "tpl[0], tpl[1]"
   ]
  },
  {
   "cell_type": "code",
   "execution_count": 20,
   "id": "d1bf2efc",
   "metadata": {},
   "outputs": [
    {
     "data": {
      "text/plain": [
       "(1, 2)"
      ]
     },
     "execution_count": 20,
     "metadata": {},
     "output_type": "execute_result"
    }
   ],
   "source": [
    "x, y = tpl\n",
    "x,y"
   ]
  },
  {
   "cell_type": "code",
   "execution_count": 21,
   "id": "20fdd5e3",
   "metadata": {},
   "outputs": [],
   "source": [
    "def add(*args, **kwargs):\n",
    "    print(args)\n",
    "    print(kwargs)"
   ]
  },
  {
   "cell_type": "code",
   "execution_count": 22,
   "id": "e38b1c73",
   "metadata": {},
   "outputs": [
    {
     "name": "stdout",
     "output_type": "stream",
     "text": [
      "(1, 2, 3)\n",
      "{'a': 4, 'b': 5}\n"
     ]
    }
   ],
   "source": [
    "add(1,2,3,a=4,b=5)"
   ]
  },
  {
   "cell_type": "code",
   "execution_count": 24,
   "id": "522de782",
   "metadata": {},
   "outputs": [
    {
     "name": "stdout",
     "output_type": "stream",
     "text": [
      "name : rishat\n",
      "pwd : 125//*\n",
      "email : rishat@gmail.com\n",
      "\n",
      "name : jewel\n",
      "pwd : 52365#\n",
      "email : jewel@gmail.com\n",
      "\n",
      "name : rocky\n",
      "pwd : abc548\n",
      "email : rocky@gmail.com\n",
      "\n"
     ]
    }
   ],
   "source": [
    "user1 = {\n",
    "    'name':'rishat',\n",
    "    'pwd':'125//*',\n",
    "    'email':'rishat@gmail.com',\n",
    "}\n",
    "user2 = {\n",
    "    'name':'jewel',\n",
    "    'pwd':'52365#',\n",
    "    'email':'jewel@gmail.com',\n",
    "}\n",
    "user3 = {\n",
    "    'name':'rocky',\n",
    "    'pwd':'abc548',\n",
    "    'email':'rocky@gmail.com',\n",
    "}\n",
    "\n",
    "users = [user1, user2, user3]\n",
    "for user in users:\n",
    "    for k, v in user.items():\n",
    "        print(k, \":\", v)\n",
    "    print()"
   ]
  },
  {
   "cell_type": "code",
   "execution_count": 28,
   "id": "fd85ac28",
   "metadata": {},
   "outputs": [
    {
     "name": "stdout",
     "output_type": "stream",
     "text": [
      "name : rishat\n",
      "pwd : 125//*\n",
      "email : rishat@gmail.com\n",
      "\n",
      "name : jewel\n",
      "pwd : 52365#\n",
      "email : jewel@gmail.com\n",
      "\n",
      "dict_items([('name', 'rocky'), ('pwd', 'abc548'), ('email', 'rocky@gmail.com')])\n",
      "\n"
     ]
    }
   ],
   "source": [
    "for user in users:\n",
    "    if user['name']=='rocky':\n",
    "        print(user.items())\n",
    "    else:\n",
    "        for k, v in user.items():\n",
    "            print(k, \":\", v)\n",
    "    print()"
   ]
  },
  {
   "cell_type": "code",
   "execution_count": null,
   "id": "2067c0e3",
   "metadata": {},
   "outputs": [],
   "source": []
  }
 ],
 "metadata": {
  "kernelspec": {
   "display_name": "Python 3",
   "language": "python",
   "name": "python3"
  },
  "language_info": {
   "codemirror_mode": {
    "name": "ipython",
    "version": 3
   },
   "file_extension": ".py",
   "mimetype": "text/x-python",
   "name": "python",
   "nbconvert_exporter": "python",
   "pygments_lexer": "ipython3",
   "version": "3.10.8"
  }
 },
 "nbformat": 4,
 "nbformat_minor": 5
}

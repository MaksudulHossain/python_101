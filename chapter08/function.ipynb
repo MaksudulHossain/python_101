{
 "cells": [
  {
   "cell_type": "code",
   "execution_count": 1,
   "id": "cafb93e7",
   "metadata": {},
   "outputs": [
    {
     "name": "stdout",
     "output_type": "stream",
     "text": [
      "Hello\n"
     ]
    }
   ],
   "source": [
    "def greet_user():\n",
    "    \"\"\"display a simple greeting\"\"\"\n",
    "    print(\"Hello\")\n",
    "greet_user()"
   ]
  },
  {
   "cell_type": "code",
   "execution_count": 2,
   "id": "d3bcf501",
   "metadata": {},
   "outputs": [
    {
     "name": "stdout",
     "output_type": "stream",
     "text": [
      "Hello jesse\n"
     ]
    }
   ],
   "source": [
    "def greet_user(username):\n",
    "    print(f\"Hello {username}\")\n",
    "\n",
    "greet_user('jesse')"
   ]
  },
  {
   "cell_type": "code",
   "execution_count": 10,
   "id": "6223f665",
   "metadata": {},
   "outputs": [
    {
     "name": "stdout",
     "output_type": "stream",
     "text": [
      "I have a dog.\n",
      "My dog's name is Harry.\n"
     ]
    }
   ],
   "source": [
    "def describe_pet(pet_name,animal_type='dog'):\n",
    "    print(f\"I have a {animal_type}.\")\n",
    "    print(f\"My {animal_type}'s name is {pet_name.title()}.\")\n",
    "\n",
    "# describe_pet('cat', 'harry')\n",
    "# describe_pet('horse', 'tail')\n",
    "# describe_pet('mr. jump', 'dog')\n",
    "# describe_pet(animal_type='cat', pet_name='harry')\n",
    "# describe_pet(pet_name='harry', animal_type='cat')\n",
    "describe_pet('harry')"
   ]
  },
  {
   "cell_type": "code",
   "execution_count": 11,
   "id": "baa94d59",
   "metadata": {},
   "outputs": [
    {
     "name": "stdout",
     "output_type": "stream",
     "text": [
      "Jimi Hendrix\n"
     ]
    }
   ],
   "source": [
    "def get_formatted_name(first_name, last_name):\n",
    "    fullname=  f\"{first_name} {last_name}\"\n",
    "    return fullname.title()\n",
    "\n",
    "musician = get_formatted_name('jimi', 'hendrix')\n",
    "print(musician)"
   ]
  },
  {
   "cell_type": "code",
   "execution_count": 12,
   "id": "da1e0dba",
   "metadata": {},
   "outputs": [
    {
     "name": "stdout",
     "output_type": "stream",
     "text": [
      "John Lee Cook\n"
     ]
    }
   ],
   "source": [
    "def get_formatted_name(first, middle, last):\n",
    "    fulnname = f\"{first} {middle} {last}\"\n",
    "    return fulnname.title()\n",
    "musician = get_formatted_name('john', 'lee', 'cook')\n",
    "print(musician)"
   ]
  },
  {
   "cell_type": "code",
   "execution_count": 19,
   "id": "7c27dc8d",
   "metadata": {},
   "outputs": [
    {
     "name": "stdout",
     "output_type": "stream",
     "text": [
      "John Cook\n"
     ]
    }
   ],
   "source": [
    "def get_formatted_name(first, last,middle=''):\n",
    "    if middle:\n",
    "        fulnname = f\"{first} {middle} {last}\"\n",
    "    else:\n",
    "        fulnname = f\"{first} {last}\"\n",
    "    return fulnname.title()\n",
    "musician = get_formatted_name('john', 'cook')\n",
    "# musician = get_formatted_name('john', 'lee', 'cook')\n",
    "print(musician)"
   ]
  },
  {
   "cell_type": "code",
   "execution_count": 20,
   "id": "da4234db",
   "metadata": {},
   "outputs": [
    {
     "name": "stdout",
     "output_type": "stream",
     "text": [
      "{'first': 'jimi', 'last': 'hendrix'}\n"
     ]
    }
   ],
   "source": [
    "def build_person(first, last):\n",
    "    person = {'first':first, 'last':last}\n",
    "    return person\n",
    "\n",
    "musician = build_person('jimi', 'hendrix')\n",
    "print(musician)"
   ]
  },
  {
   "cell_type": "code",
   "execution_count": 22,
   "id": "85164144",
   "metadata": {},
   "outputs": [
    {
     "name": "stdout",
     "output_type": "stream",
     "text": [
      "{'first': 'jimi', 'last': 'hendrix'}\n"
     ]
    }
   ],
   "source": [
    "def build_person(first, last, age=None):\n",
    "    person = {'first':first, 'last':last}\n",
    "    if age:\n",
    "        person['age'] = age \n",
    "    return person \n",
    "\n",
    "musician = build_person('jimi', 'hendrix', age=27)\n",
    "musician = build_person('jimi', 'hendrix')\n",
    "print(musician)"
   ]
  },
  {
   "cell_type": "code",
   "execution_count": 23,
   "id": "85001905",
   "metadata": {},
   "outputs": [],
   "source": [
    "def get_formatted_name(first_name, last_name):\n",
    "    \"\"\"Return a full name, neatly formatted.\"\"\"\n",
    "    full_name = f\"{first_name} {last_name}\"\n",
    "    return full_name.title()"
   ]
  },
  {
   "cell_type": "code",
   "execution_count": 1,
   "id": "30cd71b2",
   "metadata": {},
   "outputs": [
    {
     "name": "stdout",
     "output_type": "stream",
     "text": [
      "Tell me your name: \n"
     ]
    }
   ],
   "source": [
    "while True:\n",
    "    print(\"Tell me your name: \")\n",
    "    f_name = input(\"first name: \")\n",
    "    l_name = input(\"last name: \")\n",
    "    if f_name == 'q':\n",
    "        break\n",
    "    if l_name == 'q':\n",
    "        break\n",
    "    formatted_anme = get_formatted_name(f_name, l_name)\n",
    "    print(f\"Hello, {formatted_anme}\")"
   ]
  },
  {
   "cell_type": "code",
   "execution_count": 2,
   "id": "6321b996",
   "metadata": {},
   "outputs": [
    {
     "name": "stdout",
     "output_type": "stream",
     "text": [
      "Hello, Ty\n",
      "Hello, Margot\n"
     ]
    }
   ],
   "source": [
    "def greet_user(names):\n",
    "    for name in names:\n",
    "        msg = f\"Hello, {name.title()}\"\n",
    "        print(msg)\n",
    "usernames=  ['ty', 'margot']\n",
    "greet_user(usernames)"
   ]
  },
  {
   "cell_type": "code",
   "execution_count": 5,
   "id": "0385f91c",
   "metadata": {},
   "outputs": [
    {
     "name": "stdout",
     "output_type": "stream",
     "text": [
      "printing dodecahedron\n",
      "printing robot pendant\n",
      "printing phone case\n",
      "\n",
      "The following models have been printed:\n",
      "dodecahedron\n",
      "robot pendant\n",
      "phone case\n"
     ]
    }
   ],
   "source": [
    "# modify list in function\n",
    "unprinted_designs = ['phone case', 'robot pendant', 'dodecahedron']\n",
    "completed_models = []\n",
    "\n",
    "while unprinted_designs:\n",
    "    current_design = unprinted_designs.pop()\n",
    "    print(f\"printing {current_design}\")\n",
    "    completed_models.append(current_design)\n",
    "\n",
    "print(\"\\nThe following models have been printed:\")\n",
    "for completed_model in completed_models:\n",
    "    print(completed_model)"
   ]
  },
  {
   "cell_type": "code",
   "execution_count": 7,
   "id": "53533525",
   "metadata": {},
   "outputs": [
    {
     "name": "stdout",
     "output_type": "stream",
     "text": [
      "printing dodecahedron\n",
      "printing robot pendant\n",
      "printing phone case\n",
      "The following models have been printed\n",
      "dodecahedron\n",
      "robot pendant\n",
      "phone case\n",
      "[]\n"
     ]
    }
   ],
   "source": [
    "def print_models(unprinted_designs, completed_models):\n",
    "    # modify list in function\n",
    "    while unprinted_designs:\n",
    "        current_design = unprinted_designs.pop()\n",
    "        print(f\"printing {current_design}\")\n",
    "        completed_models.append(current_design)\n",
    "\n",
    "def show_completed_models(completed_models):\n",
    "    print(\"The following models have been printed\")\n",
    "    for completed_model in completed_models:\n",
    "        print(completed_model)\n",
    "\n",
    "unprinted_designs =  ['phone case', 'robot pendant', 'dodecahedron']\n",
    "completed_models = []\n",
    "\n",
    "print_models(unprinted_designs, completed_models)\n",
    "show_completed_models(completed_models)\n",
    "\n",
    "print(unprinted_designs)\n"
   ]
  },
  {
   "cell_type": "code",
   "execution_count": null,
   "id": "09e9f427",
   "metadata": {},
   "outputs": [
    {
     "name": "stdout",
     "output_type": "stream",
     "text": [
      "printing dodecahedron\n",
      "printing robot pendant\n",
      "printing phone case\n",
      "The following models have been printed\n",
      "dodecahedron\n",
      "robot pendant\n",
      "phone case\n",
      "['phone case', 'robot pendant', 'dodecahedron']\n"
     ]
    }
   ],
   "source": [
    "def print_models(unprinted_designs, completed_models):\n",
    "    # modify list in function\n",
    "    while unprinted_designs:\n",
    "        current_design = unprinted_designs.pop()\n",
    "        print(f\"printing {current_design}\")\n",
    "        completed_models.append(current_design)\n",
    "\n",
    "def show_completed_models(completed_models):\n",
    "    print(\"The following models have been printed\")\n",
    "    for completed_model in completed_models:\n",
    "        print(completed_model)\n",
    "\n",
    "unprinted_designs =  ['phone case', 'robot pendant', 'dodecahedron']\n",
    "completed_models = []\n",
    "\n",
    "print_models(unprinted_designs[:], completed_models)\n",
    "show_completed_models(completed_models)\n",
    "\n",
    "print(unprinted_designs)\n"
   ]
  },
  {
   "cell_type": "code",
   "execution_count": 13,
   "id": "092cf5aa",
   "metadata": {},
   "outputs": [
    {
     "name": "stdout",
     "output_type": "stream",
     "text": [
      "- cheese\n",
      "- cheese\n",
      "- green pepper\n"
     ]
    }
   ],
   "source": [
    "def make_pizza(*toppings):\n",
    "    # print(toppings)\n",
    "    for topping in toppings:\n",
    "        print(f\"- {topping}\")\n",
    "\n",
    "make_pizza('cheese')\n",
    "make_pizza('cheese','green pepper')"
   ]
  },
  {
   "cell_type": "code",
   "execution_count": 15,
   "id": "2c8e9565",
   "metadata": {},
   "outputs": [
    {
     "name": "stdout",
     "output_type": "stream",
     "text": [
      "making a 11 inch pizza with following toppings: \n",
      "- onions\n",
      "- green pepper\n"
     ]
    }
   ],
   "source": [
    "def make_pizza(size, *toppings):\n",
    "    print(f\"making a {size} inch pizza with following toppings: \")\n",
    "    for topping in toppings:\n",
    "        print(f\"- {topping}\")\n",
    "\n",
    "make_pizza(11, 'onions', 'green pepper')"
   ]
  },
  {
   "cell_type": "code",
   "execution_count": 17,
   "id": "3fc6bf11",
   "metadata": {},
   "outputs": [
    {
     "name": "stdout",
     "output_type": "stream",
     "text": [
      "{'location': 'princeton', 'field': 'physics', 'first_name': 'albert', 'last_name': 'einstein'}\n"
     ]
    }
   ],
   "source": [
    "def build_profile(first, last, **user_info):\n",
    "    user_info['first_name'] = first\n",
    "    user_info['last_name'] = last\n",
    "    return user_info\n",
    "\n",
    "user_profile = build_profile('albert', 'einstein',location='princeton',field='physics')\n",
    "print(user_profile)"
   ]
  },
  {
   "cell_type": "code",
   "execution_count": null,
   "id": "e709c3c0",
   "metadata": {},
   "outputs": [],
   "source": []
  }
 ],
 "metadata": {
  "kernelspec": {
   "display_name": "Python 3",
   "language": "python",
   "name": "python3"
  },
  "language_info": {
   "codemirror_mode": {
    "name": "ipython",
    "version": 3
   },
   "file_extension": ".py",
   "mimetype": "text/x-python",
   "name": "python",
   "nbconvert_exporter": "python",
   "pygments_lexer": "ipython3",
   "version": "3.10.8"
  }
 },
 "nbformat": 4,
 "nbformat_minor": 5
}

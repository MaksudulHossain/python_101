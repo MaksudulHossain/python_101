{
 "cells": [
  {
   "cell_type": "code",
   "execution_count": 1,
   "id": "b0fbf4f5",
   "metadata": {},
   "outputs": [
    {
     "name": "stdout",
     "output_type": "stream",
     "text": [
      "Rishat\n",
      "Rishat\n",
      "Rishat\n",
      "Rishat\n",
      "Rishat\n",
      "Rishat\n",
      "Rishat\n",
      "Rishat\n",
      "Rishat\n",
      "Rishat\n"
     ]
    }
   ],
   "source": [
    "name = 'rishat'\n",
    "counter = 0\n",
    "while True:\n",
    "    if counter == 10:\n",
    "        break\n",
    "    print(name.title())\n",
    "    counter += 1"
   ]
  },
  {
   "cell_type": "code",
   "execution_count": null,
   "id": "aead2cb9",
   "metadata": {},
   "outputs": [],
   "source": [
    "\n",
    "def greet(myname):\n",
    "    name = myname\n",
    "    counter = 0\n",
    "    while True:\n",
    "        if counter == 10:\n",
    "            break\n",
    "        print(myname.title())\n",
    "        counter += 1"
   ]
  },
  {
   "cell_type": "code",
   "execution_count": 3,
   "id": "45f0ef1f",
   "metadata": {},
   "outputs": [
    {
     "name": "stdout",
     "output_type": "stream",
     "text": [
      "Rishat2\n",
      "Rishat2\n",
      "Rishat2\n",
      "Rishat2\n",
      "Rishat2\n",
      "Rishat2\n",
      "Rishat2\n",
      "Rishat2\n",
      "Rishat2\n",
      "Rishat2\n"
     ]
    }
   ],
   "source": [
    "greet('rishat2')"
   ]
  },
  {
   "cell_type": "code",
   "execution_count": null,
   "id": "9cd82113",
   "metadata": {},
   "outputs": [],
   "source": []
  }
 ],
 "metadata": {
  "kernelspec": {
   "display_name": "Python 3",
   "language": "python",
   "name": "python3"
  },
  "language_info": {
   "codemirror_mode": {
    "name": "ipython",
    "version": 3
   },
   "file_extension": ".py",
   "mimetype": "text/x-python",
   "name": "python",
   "nbconvert_exporter": "python",
   "pygments_lexer": "ipython3",
   "version": "3.10.8"
  }
 },
 "nbformat": 4,
 "nbformat_minor": 5
}
